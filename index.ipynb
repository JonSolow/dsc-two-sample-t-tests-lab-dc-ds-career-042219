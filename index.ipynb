{
 "cells": [
  {
   "cell_type": "markdown",
   "metadata": {},
   "source": [
    "# Two Sample T-Test - Lab\n",
    "\n",
    "## Introduction\n",
    "\n",
    "The two-sample t-test  is used to determine if two population means are equal. A common application is to test if a new process or treatment is superior to a current process or treatment.\n",
    "\n",
    "## Objectives\n",
    "You will be able to:\n",
    "* Understand the t-statistic, p-value, and t-test for 2 sample t-test\n",
    "* Calculate the t-statistic and p-value using formulas as well as Scipy functions\n",
    "* Visually represent the t-test and p-value using the t-distribution\n",
    "* Understand how the t-test and frequentist hypothesis testing relate to the concepts of signal and noise\n",
    "\n",
    "\n",
    "## Example: \n",
    "\n",
    "Consider the following experimental settings for clinical trials of a new blood pressure medicine. \n",
    "\n",
    "In the context of controlled experiments, you will often see talk about the \"control\" group and the \"experimental\" or \"treatment\" group. In a drug test example, the control group is the group given the placebo and the treatment group is given the actual drug. Researchers are interested in the average difference in blood pressure levels between the treatment and control groups.\n",
    "\n",
    "\n",
    ">The 50 subjects in the control group have an average systolic blood pressure of 121.38 who have been given a placebo drug.\n",
    "\n",
    ">The 50 subjects in the experimental / treatment group have an average systolic blood pressure of 111.56 after treatment with the drug being tested. \n",
    "\n",
    "The apparent difference between experimental and control groups is -9.82 points. But with 50 subjects in each group, how confident can a researcher be that this measured difference is real? You can perform a two sample t-test to evaluate this.\n",
    "\n",
    "First, you will calculate a t-statistic for 2 sample t-test, followed by calculation of p-value. \n",
    "\n",
    "You can set up the experimental and control observations below as numpy arrays. First, make sure to import necessary libraries"
   ]
  },
  {
   "cell_type": "code",
   "execution_count": 1,
   "metadata": {},
   "outputs": [],
   "source": [
    "import numpy as np\n",
    "from scipy import stats\n",
    "import seaborn as sns\n",
    "import matplotlib.pyplot as plt\n",
    "\n",
    "sns.set_style('whitegrid')\n",
    "\n",
    "%config InlineBackend.figure_format = 'retina'\n",
    "%matplotlib inline"
   ]
  },
  {
   "cell_type": "code",
   "execution_count": 2,
   "metadata": {},
   "outputs": [],
   "source": [
    "# Use this sample data to conduct experimentation\n",
    "\n",
    "control = np.array([166, 165, 120,  94, 104, 166,  98,  85,  97,  87, 114, 100, 152,\n",
    "                    87, 152, 102,  82,  80,  84, 109,  98, 154, 135, 164, 137, 128,\n",
    "                    122, 146,  86, 146,  85, 101, 109, 105, 163, 136, 142, 144, 140,\n",
    "                    128, 126, 119, 121, 126, 169,  87,  97, 167,  89, 155])\n",
    "\n",
    "experimental = np.array([ 83, 100, 123,  75, 130,  77,  78,  87, 116, 116, 141,  93, 107,\n",
    "                         101, 142, 152, 130, 123, 122, 154, 119, 149, 106, 107, 108, 151,\n",
    "                         97,  95, 104, 141,  80, 110, 136, 134, 142, 135, 111,  83,  86,\n",
    "                         116,  86, 117,  87, 143, 104, 107,  86,  88, 124,  76])\n"
   ]
  },
  {
   "cell_type": "markdown",
   "metadata": {},
   "source": [
    "It is always a good idea to draw the probability distributions for samples to visually inspect the differences present between mean and standard deviation. \n",
    "Plot both samples' distributions and inspect the overlap using seaborn to get an idea how different the samples might be from one another. "
   ]
  },
  {
   "cell_type": "code",
   "execution_count": 8,
   "metadata": {},
   "outputs": [
    {
     "data": {
      "text/plain": [
       "(array([9., 3., 5., 6., 9., 2., 7., 3., 2., 0.]),\n",
       " array([ 80. ,  88.9,  97.8, 106.7, 115.6, 124.5, 133.4, 142.3, 151.2,\n",
       "        160.1, 169. ]),\n",
       " <a list of 10 Patch objects>)"
      ]
     },
     "execution_count": 8,
     "metadata": {},
     "output_type": "execute_result"
    },
    {
     "data": {
      "image/png": "[encoded data removed]",
      "text/plain": [
       "<Figure size 432x288 with 1 Axes>"
      ]
     },
     "metadata": {
      "image/png": {
       "height": 250,
       "width": 364
      },
      "needs_background": "light"
     },
     "output_type": "display_data"
    }
   ],
   "source": [
    "# Draw a plot showing overlapping of distribution means and sds for incpection\n",
    "\n",
    "\n",
    "\n",
    "\n",
    "(b1) = plt.hist(control, alpha=0.5)\n",
    "\n",
    "\n",
    "plt.hist(experimental, bins=b1[1],  alpha=0.5)\n"
   ]
  },
  {
   "cell_type": "markdown",
   "metadata": {},
   "source": [
    "There are some slight differences between the mean and standard deviation of the control and experimental groups. This is a good sign to further our experimentation and to calculate whether the difference is significant, or not. As a reminder the five steps to performing a hypothesis test are:\n",
    "\n",
    "1) Set up null and alternative hypotheses   \n",
    "2) Choose a significance level   \n",
    "3) Calculate the test statistic   \n",
    "4) Determine the critical or p-value (find the rejection region)   \n",
    "5) Compare t-value with critical t-value to reject or fail to reject the null hypothesis   \n",
    "\n",
    "## The Null Hypothesis\n",
    "\n",
    "In thus drug efficacy experiment example, you can define the null hypothesis to be that there is no difference between a subject taking a placebo and the treatment drug.\n",
    "\n",
    ">**$H_{0}$: The mean difference between treatment and control groups is zero. i.e. $H_{0} = H_{1}$**\n",
    "\n",
    "## The Alternate Hypothesis\n",
    "\n",
    "In this example the alternative hypothesis is that there is in fact a mean difference in blood pressure between the treatment and control groups.\n",
    "\n",
    ">**$H_{1}$ (2-tailed): The parameter of interest, our mean difference between treatment and control, is different than zero.**\n",
    "\n",
    ">**$H_{1}$ (1-tailed, >): The parameter of interest, our mean difference between treatment and control, is greater than zero.**\n",
    "\n",
    ">**$H_{1}$ (1-tailed, <): The parameter of interest, our mean difference between treatment and control, is less than zero.**\n",
    "\n",
    "NOTE: The null hypothesis and alternative hypothesis are concerned with the true values, or in other words the parameter of the overall population. Through the process of experimentation/hypothesis testing and statistical analysis of the results, we will make an inference about this population parameter.\n",
    "\n",
    "\n",
    "Now, calculate the mean difference between both groups."
   ]
  },
  {
   "cell_type": "code",
   "execution_count": 10,
   "metadata": {},
   "outputs": [
    {
     "data": {
      "text/plain": [
       "-9.819999999999993"
      ]
     },
     "execution_count": 10,
     "metadata": {},
     "output_type": "execute_result"
    }
   ],
   "source": [
    "# -9.819999999999993\n",
    "\n",
    "np.mean(experimental) - np.mean(control)"
   ]
  },
  {
   "cell_type": "markdown",
   "metadata": {},
   "source": [
    "What is the probability that you would observe this data GIVEN a specified mean difference in blood pressure?\n",
    "\n",
    "You obviously don't know the true mean difference in blood pressure resulting from administration the drug. The whole point of conducting the experiment is to evaluate the drug. Instead you must assume that the true mean difference is zero: the null hypothesis $H_{0}$ is assumed to be true:\n",
    "\n",
    "## Calculating the t-statistic\n",
    "When comparing the difference between groups, we can calculate the two-sample t-statistic like so:\n",
    "\n",
    "$$\\large t = \\frac{\\bar{x}_{1} - \\bar{x}_{2}}{\\sqrt{s^{2}_{p} (\\frac{1}{n_{1}} + \\frac{1}{n_{2}}) }    }  $$\n",
    "\n",
    "Where $s^{2}_{p}$ is the pooled sample variance, calculated as:\n",
    "\n",
    "$$\\large s^{2}_{p}  = \\frac{(n_{1} -1)s^{2}_{1} +  (n_{2} -1)s^{2}_{2}}{n_{1} + n_{2} + 2}  $$\n",
    "\n",
    "Where $s^{2}_{1}$ and $s^{2}_{2}$ are the variances for each sample given by the formula \n",
    "$$ \\large s^{2} = \\frac{\\sum_{i=1}^{n}(x_{i} - \\bar{x})^{2}}{n-1} $$\n",
    "\n",
    "\n",
    "## Calculating pooled sample variance\n",
    "The $s^2_{p}$ denotes the sample variance. In this version of the t-test you are assuming equal variances in our experimental and control groups in the overall population. There is another way to calculate the t-test where equal variance is not assumed, but in this case it is a reasonable assumption.\n",
    "\n",
    "This approach combines the variance of the two group's variance measurements into a single, pooled metric.\n",
    "\n",
    "Now, create some functions to calculate the t-statistic. The first function to create is one that calculates the variance for a single sample."
   ]
  },
  {
   "cell_type": "code",
   "execution_count": 16,
   "metadata": {},
   "outputs": [],
   "source": [
    "def sample_variance(sample):\n",
    "    mu = np.mean(sample)\n",
    "    n = len(sample)\n",
    "    samp_var = 0\n",
    "    for item in sample:\n",
    "        samp_var += (item - mu)**2 / (n-1)\n",
    "    return samp_var"
   ]
  },
  {
   "cell_type": "markdown",
   "metadata": {},
   "source": [
    "Using `sample_variance`, you can now write another function `pooled_variance` to calculate $S_{p}^{2}$"
   ]
  },
  {
   "cell_type": "code",
   "execution_count": 20,
   "metadata": {},
   "outputs": [],
   "source": [
    "def pooled_variance(sample1, sample2):\n",
    "    v1 = sample_variance(sample1)\n",
    "    v2 = sample_variance(sample2)\n",
    "    n1 = len(sample1)\n",
    "    n2= len(sample2)\n",
    "    return ((n1-1)*v1 + (n2-1)*v2) / (n1+n2-2)"
   ]
  },
  {
   "cell_type": "markdown",
   "metadata": {},
   "source": [
    "Now that you have $S_{p}^{2}$, create a function `twosample_tstatistic` to calculate the two sample t-statistic using the formula given earlier. "
   ]
  },
  {
   "cell_type": "code",
   "execution_count": 22,
   "metadata": {},
   "outputs": [
    {
     "data": {
      "text/plain": [
       "-1.8915462966190268"
      ]
     },
     "execution_count": 22,
     "metadata": {},
     "output_type": "execute_result"
    }
   ],
   "source": [
    "def twosample_tstatistic(expr, ctrl):\n",
    "    mu1 = np.mean(expr)\n",
    "    mu2 = np.mean(ctrl)\n",
    "    n1 = len(expr)\n",
    "    n2 = len(ctrl)\n",
    "    p_var = pooled_variance(expr, ctrl)  \n",
    "    return (mu1 - mu2) / (p_var * (1/n1 + 1/n2))**0.5\n",
    "\n",
    "t_stat = twosample_tstatistic(experimental, control)\n",
    "t_stat\n",
    "# -1.8915462966190268"
   ]
  },
  {
   "cell_type": "markdown",
   "metadata": {},
   "source": [
    "Using the data from the samples, you can now determine the critical values with the t-statistic and calculate the area under the curve to determine the p-value. \n",
    "\n",
    "Write a function `visualize_t` that uses matplotlib to display a standard t-distribution with vertical lines identifying each critical value that signifies the rejection region."
   ]
  },
  {
   "cell_type": "code",
   "execution_count": 35,
   "metadata": {},
   "outputs": [
    {
     "ename": "ValueError",
     "evalue": "operands could not be broadcast together with shapes (800,) (590,) ",
     "output_type": "error",
     "traceback": [
      "\u001b[0;31m\u001b[0m",
      "\u001b[0;31mValueError\u001b[0mTraceback (most recent call last)",
      "\u001b[0;32m<ipython-input-35-2bc52ff27160>\u001b[0m in \u001b[0;36m<module>\u001b[0;34m()\u001b[0m\n\u001b[1;32m     11\u001b[0m \u001b[0my3\u001b[0m\u001b[0;34m=\u001b[0m \u001b[0mstats\u001b[0m\u001b[0;34m.\u001b[0m\u001b[0mt\u001b[0m\u001b[0;34m.\u001b[0m\u001b[0mpdf\u001b[0m\u001b[0;34m(\u001b[0m\u001b[0mdomain3\u001b[0m\u001b[0;34m,\u001b[0m \u001b[0mdf\u001b[0m\u001b[0;34m=\u001b[0m\u001b[0mn_control\u001b[0m\u001b[0;34m+\u001b[0m\u001b[0mn_experimental\u001b[0m\u001b[0;34m-\u001b[0m\u001b[0;36m2\u001b[0m\u001b[0;34m)\u001b[0m\u001b[0;34m\u001b[0m\u001b[0m\n\u001b[1;32m     12\u001b[0m \u001b[0;34m\u001b[0m\u001b[0m\n\u001b[0;32m---> 13\u001b[0;31m \u001b[0mplt\u001b[0m\u001b[0;34m.\u001b[0m\u001b[0mfill_between\u001b[0m\u001b[0;34m(\u001b[0m\u001b[0mdomain\u001b[0m\u001b[0;34m,\u001b[0m \u001b[0my1\u001b[0m\u001b[0;34m)\u001b[0m\u001b[0;34m\u001b[0m\u001b[0m\n\u001b[0m\u001b[1;32m     14\u001b[0m \u001b[0mplt\u001b[0m\u001b[0;34m.\u001b[0m\u001b[0mfill_between\u001b[0m\u001b[0;34m(\u001b[0m\u001b[0mdomain\u001b[0m\u001b[0;34m,\u001b[0m \u001b[0my2\u001b[0m\u001b[0;34m)\u001b[0m\u001b[0;34m\u001b[0m\u001b[0m\n\u001b[1;32m     15\u001b[0m \u001b[0mplt\u001b[0m\u001b[0;34m.\u001b[0m\u001b[0mfill_between\u001b[0m\u001b[0;34m(\u001b[0m\u001b[0mdomain\u001b[0m\u001b[0;34m,\u001b[0m \u001b[0my3\u001b[0m\u001b[0;34m)\u001b[0m\u001b[0;34m\u001b[0m\u001b[0m\n",
      "\u001b[0;32m/opt/conda/envs/learn-env/lib/python3.6/site-packages/matplotlib/pyplot.py\u001b[0m in \u001b[0;36mfill_between\u001b[0;34m(x, y1, y2, where, interpolate, step, data, **kwargs)\u001b[0m\n\u001b[1;32m   2608\u001b[0m     return gca().fill_between(\n\u001b[1;32m   2609\u001b[0m         \u001b[0mx\u001b[0m\u001b[0;34m,\u001b[0m \u001b[0my1\u001b[0m\u001b[0;34m,\u001b[0m \u001b[0my2\u001b[0m\u001b[0;34m=\u001b[0m\u001b[0my2\u001b[0m\u001b[0;34m,\u001b[0m \u001b[0mwhere\u001b[0m\u001b[0;34m=\u001b[0m\u001b[0mwhere\u001b[0m\u001b[0;34m,\u001b[0m \u001b[0minterpolate\u001b[0m\u001b[0;34m=\u001b[0m\u001b[0minterpolate\u001b[0m\u001b[0;34m,\u001b[0m \u001b[0mstep\u001b[0m\u001b[0;34m=\u001b[0m\u001b[0mstep\u001b[0m\u001b[0;34m,\u001b[0m\u001b[0;34m\u001b[0m\u001b[0m\n\u001b[0;32m-> 2610\u001b[0;31m         **({\"data\": data} if data is not None else {}), **kwargs)\n\u001b[0m\u001b[1;32m   2611\u001b[0m \u001b[0;34m\u001b[0m\u001b[0m\n\u001b[1;32m   2612\u001b[0m \u001b[0;34m\u001b[0m\u001b[0m\n",
      "\u001b[0;32m/opt/conda/envs/learn-env/lib/python3.6/site-packages/matplotlib/__init__.py\u001b[0m in \u001b[0;36minner\u001b[0;34m(ax, data, *args, **kwargs)\u001b[0m\n\u001b[1;32m   1808\u001b[0m                         \u001b[0;34m\"the Matplotlib list!)\"\u001b[0m \u001b[0;34m%\u001b[0m \u001b[0;34m(\u001b[0m\u001b[0mlabel_namer\u001b[0m\u001b[0;34m,\u001b[0m \u001b[0mfunc\u001b[0m\u001b[0;34m.\u001b[0m\u001b[0m__name__\u001b[0m\u001b[0;34m)\u001b[0m\u001b[0;34m,\u001b[0m\u001b[0;34m\u001b[0m\u001b[0m\n\u001b[1;32m   1809\u001b[0m                         RuntimeWarning, stacklevel=2)\n\u001b[0;32m-> 1810\u001b[0;31m             \u001b[0;32mreturn\u001b[0m \u001b[0mfunc\u001b[0m\u001b[0;34m(\u001b[0m\u001b[0max\u001b[0m\u001b[0;34m,\u001b[0m \u001b[0;34m*\u001b[0m\u001b[0margs\u001b[0m\u001b[0;34m,\u001b[0m \u001b[0;34m**\u001b[0m\u001b[0mkwargs\u001b[0m\u001b[0;34m)\u001b[0m\u001b[0;34m\u001b[0m\u001b[0m\n\u001b[0m\u001b[1;32m   1811\u001b[0m \u001b[0;34m\u001b[0m\u001b[0m\n\u001b[1;32m   1812\u001b[0m         inner.__doc__ = _add_data_doc(inner.__doc__,\n",
      "\u001b[0;32m/opt/conda/envs/learn-env/lib/python3.6/site-packages/matplotlib/axes/_axes.py\u001b[0m in \u001b[0;36mfill_between\u001b[0;34m(self, x, y1, y2, where, interpolate, step, **kwargs)\u001b[0m\n\u001b[1;32m   5057\u001b[0m             \u001b[0mwhere\u001b[0m \u001b[0;34m=\u001b[0m \u001b[0;32mTrue\u001b[0m\u001b[0;34m\u001b[0m\u001b[0m\n\u001b[1;32m   5058\u001b[0m         where = where & ~functools.reduce(np.logical_or,\n\u001b[0;32m-> 5059\u001b[0;31m                                           map(np.ma.getmask, [x, y1, y2]))\n\u001b[0m\u001b[1;32m   5060\u001b[0m \u001b[0;34m\u001b[0m\u001b[0m\n\u001b[1;32m   5061\u001b[0m         \u001b[0mx\u001b[0m\u001b[0;34m,\u001b[0m \u001b[0my1\u001b[0m\u001b[0;34m,\u001b[0m \u001b[0my2\u001b[0m \u001b[0;34m=\u001b[0m \u001b[0mnp\u001b[0m\u001b[0;34m.\u001b[0m\u001b[0mbroadcast_arrays\u001b[0m\u001b[0;34m(\u001b[0m\u001b[0mnp\u001b[0m\u001b[0;34m.\u001b[0m\u001b[0matleast_1d\u001b[0m\u001b[0;34m(\u001b[0m\u001b[0mx\u001b[0m\u001b[0;34m)\u001b[0m\u001b[0;34m,\u001b[0m \u001b[0my1\u001b[0m\u001b[0;34m,\u001b[0m \u001b[0my2\u001b[0m\u001b[0;34m)\u001b[0m\u001b[0;34m\u001b[0m\u001b[0m\n",
      "\u001b[0;31mValueError\u001b[0m: operands could not be broadcast together with shapes (800,) (590,) "
     ]
    },
    {
     "data": {
      "image/png": "[encoded data removed]",
      "text/plain": [
       "<Figure size 720x432 with 1 Axes>"
      ]
     },
     "metadata": {
      "image/png": {
       "height": 360,
       "width": 603
      },
      "needs_background": "light"
     },
     "output_type": "display_data"
    }
   ],
   "source": [
    "n_control = len(control)\n",
    "n_experimental = len(experimental)\n",
    "\n",
    "plt.figure(figsize=(10, 6))\n",
    "domain1 = np.arange(-4, -t_stat, 0.01)\n",
    "domain2 = np.arange(-t_stat, t_stat, 0.01)\n",
    "domain3 = np.arange(t_stat, 4, 0.01)\n",
    "\n",
    "y1= stats.t.pdf(domain1, df=n_control+n_experimental-2)\n",
    "y2= stats.t.pdf(domain2, df=n_control+n_experimental-2)\n",
    "y3= stats.t.pdf(domain3, df=n_control+n_experimental-2)\n",
    "\n",
    "plt.fill_between(domain1, y1, color='r')\n",
    "plt.fill_between(domain2, y2)\n",
    "plt.fill_between(domain3, y3)\n",
    "plt.axvline(-t_stat, color='red', linestyle='--', lw=5,label='neg t-statistic: {:.3f}'.format(-t_stat))\n",
    "plt.axvline(t_stat, color='red', linestyle='--', lw=5,label='t-statistic {:.3f}'.format(t_stat))\n",
    "plt.legend(loc=2)"
   ]
  },
  {
   "cell_type": "code",
   "execution_count": 24,
   "metadata": {},
   "outputs": [
    {
     "ename": "TypeError",
     "evalue": "_parse_args() missing 1 required positional argument: 'df'",
     "output_type": "error",
     "traceback": [
      "\u001b[0;31m\u001b[0m",
      "\u001b[0;31mTypeError\u001b[0mTraceback (most recent call last)",
      "\u001b[0;32m<ipython-input-24-c6a06ba06dc3>\u001b[0m in \u001b[0;36m<module>\u001b[0;34m()\u001b[0m\n\u001b[1;32m     15\u001b[0m \u001b[0mn_control\u001b[0m \u001b[0;34m=\u001b[0m \u001b[0;32mNone\u001b[0m\u001b[0;34m\u001b[0m\u001b[0m\n\u001b[1;32m     16\u001b[0m \u001b[0mn_experimental\u001b[0m \u001b[0;34m=\u001b[0m \u001b[0;32mNone\u001b[0m\u001b[0;34m\u001b[0m\u001b[0m\n\u001b[0;32m---> 17\u001b[0;31m \u001b[0mvisualize_t\u001b[0m\u001b[0;34m(\u001b[0m\u001b[0mt_stat\u001b[0m\u001b[0;34m,\u001b[0m \u001b[0mn_control\u001b[0m\u001b[0;34m,\u001b[0m \u001b[0mn_experimental\u001b[0m\u001b[0;34m)\u001b[0m\u001b[0;34m\u001b[0m\u001b[0m\n\u001b[0m",
      "\u001b[0;32m<ipython-input-24-c6a06ba06dc3>\u001b[0m in \u001b[0;36mvisualize_t\u001b[0;34m(t_stat, n_control, n_experimental)\u001b[0m\n\u001b[1;32m      8\u001b[0m     \u001b[0mdomain\u001b[0m \u001b[0;34m=\u001b[0m \u001b[0mnp\u001b[0m\u001b[0;34m.\u001b[0m\u001b[0marange\u001b[0m\u001b[0;34m(\u001b[0m\u001b[0;34m-\u001b[0m\u001b[0;36m4\u001b[0m\u001b[0;34m,\u001b[0m\u001b[0;36m4\u001b[0m\u001b[0;34m,\u001b[0m\u001b[0;36m0.01\u001b[0m\u001b[0;34m)\u001b[0m\u001b[0;34m\u001b[0m\u001b[0m\n\u001b[1;32m      9\u001b[0m     \u001b[0;31m# use stats.t.pdf to get values on the probability density function for the t-distribution\u001b[0m\u001b[0;34m\u001b[0m\u001b[0;34m\u001b[0m\u001b[0m\n\u001b[0;32m---> 10\u001b[0;31m     \u001b[0my1\u001b[0m\u001b[0;34m=\u001b[0m \u001b[0mstats\u001b[0m\u001b[0;34m.\u001b[0m\u001b[0mt\u001b[0m\u001b[0;34m.\u001b[0m\u001b[0mpdf\u001b[0m\u001b[0;34m(\u001b[0m\u001b[0mdomain\u001b[0m\u001b[0;34m)\u001b[0m\u001b[0;34m\u001b[0m\u001b[0m\n\u001b[0m\u001b[1;32m     11\u001b[0m     \u001b[0;31m# Draw two sided boundary for critical-t\u001b[0m\u001b[0;34m\u001b[0m\u001b[0;34m\u001b[0m\u001b[0m\n\u001b[1;32m     12\u001b[0m     \u001b[0mplt\u001b[0m\u001b[0;34m.\u001b[0m\u001b[0mfill_between\u001b[0m\u001b[0;34m(\u001b[0m\u001b[0mdomain\u001b[0m\u001b[0;34m,\u001b[0m \u001b[0my1\u001b[0m\u001b[0;34m)\u001b[0m\u001b[0;34m\u001b[0m\u001b[0m\n",
      "\u001b[0;32m/opt/conda/envs/learn-env/lib/python3.6/site-packages/scipy/stats/_distn_infrastructure.py\u001b[0m in \u001b[0;36mpdf\u001b[0;34m(self, x, *args, **kwds)\u001b[0m\n\u001b[1;32m   1646\u001b[0m \u001b[0;34m\u001b[0m\u001b[0m\n\u001b[1;32m   1647\u001b[0m         \"\"\"\n\u001b[0;32m-> 1648\u001b[0;31m         \u001b[0margs\u001b[0m\u001b[0;34m,\u001b[0m \u001b[0mloc\u001b[0m\u001b[0;34m,\u001b[0m \u001b[0mscale\u001b[0m \u001b[0;34m=\u001b[0m \u001b[0mself\u001b[0m\u001b[0;34m.\u001b[0m\u001b[0m_parse_args\u001b[0m\u001b[0;34m(\u001b[0m\u001b[0;34m*\u001b[0m\u001b[0margs\u001b[0m\u001b[0;34m,\u001b[0m \u001b[0;34m**\u001b[0m\u001b[0mkwds\u001b[0m\u001b[0;34m)\u001b[0m\u001b[0;34m\u001b[0m\u001b[0m\n\u001b[0m\u001b[1;32m   1649\u001b[0m         \u001b[0mx\u001b[0m\u001b[0;34m,\u001b[0m \u001b[0mloc\u001b[0m\u001b[0;34m,\u001b[0m \u001b[0mscale\u001b[0m \u001b[0;34m=\u001b[0m \u001b[0mmap\u001b[0m\u001b[0;34m(\u001b[0m\u001b[0masarray\u001b[0m\u001b[0;34m,\u001b[0m \u001b[0;34m(\u001b[0m\u001b[0mx\u001b[0m\u001b[0;34m,\u001b[0m \u001b[0mloc\u001b[0m\u001b[0;34m,\u001b[0m \u001b[0mscale\u001b[0m\u001b[0;34m)\u001b[0m\u001b[0;34m)\u001b[0m\u001b[0;34m\u001b[0m\u001b[0m\n\u001b[1;32m   1650\u001b[0m         \u001b[0margs\u001b[0m \u001b[0;34m=\u001b[0m \u001b[0mtuple\u001b[0m\u001b[0;34m(\u001b[0m\u001b[0mmap\u001b[0m\u001b[0;34m(\u001b[0m\u001b[0masarray\u001b[0m\u001b[0;34m,\u001b[0m \u001b[0margs\u001b[0m\u001b[0;34m)\u001b[0m\u001b[0;34m)\u001b[0m\u001b[0;34m\u001b[0m\u001b[0m\n",
      "\u001b[0;31mTypeError\u001b[0m: _parse_args() missing 1 required positional argument: 'df'"
     ]
    },
    {
     "data": {
      "text/plain": [
       "<Figure size 432x288 with 0 Axes>"
      ]
     },
     "metadata": {},
     "output_type": "display_data"
    }
   ],
   "source": [
    "# Visualize t and p_value\n",
    "\n",
    "def visualize_t(t_stat, n_control, n_experimental):\n",
    "\n",
    "    # initialize a matplotlib \"figure\"\n",
    "    plt.figure()\n",
    "    # generate points on the x axis between -4 and 4:\n",
    "    domain = np.arange(-4,4,0.01)\n",
    "    # use stats.t.pdf to get values on the probability density function for the t-distribution\n",
    "    y1= stats.t.pdf(domain)\n",
    "    # Draw two sided boundary for critical-t\n",
    "    plt.fill_between(domain, y1)\n",
    "    return None\n",
    "\n",
    "n_control = None\n",
    "n_experimental = None\n",
    "visualize_t(t_stat, n_control, n_experimental)"
   ]
  },
  {
   "cell_type": "markdown",
   "metadata": {},
   "source": [
    "Now that you have defined your boundaries for significance, you can simply calculate p_value by calculating the total area under curve using `stats.t.cdf()`. \n",
    "\n",
    "Given a t-value and a degrees of freedom, you can use the \"survival function\" sf of scipy.stats.t (aka the complementary CDF) to compute the one-sided p-value. For the two-sided p-value, just double the one-sided p-value."
   ]
  },
  {
   "cell_type": "code",
   "execution_count": null,
   "metadata": {},
   "outputs": [],
   "source": [
    "## Calculate p_value\n",
    "# Lower tail comulative density function returns area under the lower tail curve\n",
    "lower_tail = stats.t.cdf(-1.89, (50+50-2), 0, 1)\n",
    "# Upper tail comulative density function returns area under upper tail curve\n",
    "upper_tail = 1. - stats.t.cdf(1.89, (50+50-2), 0, 1)\n",
    "\n",
    "p_value = lower_tail+upper_tail\n",
    "print(p_value)"
   ]
  },
  {
   "cell_type": "markdown",
   "metadata": {},
   "source": [
    "To verify these results, you can use SciPy's functions to calculate the p_value in a one liner. "
   ]
  },
  {
   "cell_type": "code",
   "execution_count": null,
   "metadata": {},
   "outputs": [],
   "source": [
    "## your code here\n",
    "'''\n",
    "Calculates the T-test for the means of *two independent* samples of scores.\n",
    "\n",
    "This is a two-sided test for the null hypothesis that 2 independent samples\n",
    "have identical average (expected) values. This test assumes that the\n",
    "populations have identical variances by default.\n",
    "'''\n",
    "\n",
    "stats.ttest_ind(experimental, control)"
   ]
  },
  {
   "cell_type": "markdown",
   "metadata": {},
   "source": [
    "## Summary\n",
    "In this lesson, you ran hypothesis testing using frequentists methods with t-values and p-values. You saw how a two sample t-test can be applied to contexts where the population and sample mean are known and you have a limited amount of sample data. You looked at all the stages required for such hypothesis testing with a description of the steps and also how to perform these functions in python. You also used built-in SciPy functions to calculate test statistics and p-value as a way to verify the manual calculations performed. "
   ]
  }
 ],
 "metadata": {
  "kernelspec": {
   "display_name": "Python 3",
   "language": "python",
   "name": "python3"
  },
  "language_info": {
   "codemirror_mode": {
    "name": "ipython",
    "version": 3
   },
   "file_extension": ".py",
   "mimetype": "text/x-python",
   "name": "python",
   "nbconvert_exporter": "python",
   "pygments_lexer": "ipython3",
   "version": "3.6.6"
  }
 },
 "nbformat": 4,
 "nbformat_minor": 2
}
